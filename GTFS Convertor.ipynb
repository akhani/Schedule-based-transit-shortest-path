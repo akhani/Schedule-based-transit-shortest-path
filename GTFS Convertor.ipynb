{
 "cells": [
  {
   "cell_type": "code",
   "execution_count": 1,
   "id": "a9e0eab6",
   "metadata": {},
   "outputs": [],
   "source": [
    "import pandas as pd\n",
    "import os, sys"
   ]
  },
  {
   "cell_type": "code",
   "execution_count": 2,
   "id": "c590366b",
   "metadata": {},
   "outputs": [
    {
     "name": "stdout",
     "output_type": "stream",
     "text": [
      "Directory examples/TwinCities_model is created by the program.\n"
     ]
    }
   ],
   "source": [
    "## Insert the path or directory for the GTFS folder\n",
    "#gtfs_folder = \"examples/IowaCity/iowacityGTFS20220822\"\n",
    "gtfs_folder = \"examples/TwinCities\"\n",
    "if os.path.exists(gtfs_folder):\n",
    "    model_folder = gtfs_folder+\"_model\"\n",
    "    try:\n",
    "        os.mkdir(model_folder)\n",
    "        print ('Directory', model_folder,'is created by the program.')\n",
    "    except:\n",
    "        print ('Directory', model_folder,'already exists. The program will continue.')\n",
    "else:\n",
    "    print ('Direcotry', gtfs_folder, 'DOES NOT exist. The program will terminate.')\n",
    "    quit(keep_kernel=True)\n"
   ]
  },
  {
   "cell_type": "markdown",
   "id": "5000c29e",
   "metadata": {},
   "source": [
    "# Trips"
   ]
  },
  {
   "cell_type": "code",
   "execution_count": 3,
   "id": "670723c6",
   "metadata": {},
   "outputs": [
    {
     "name": "stdout",
     "output_type": "stream",
     "text": [
      "The column type is not available in the GTFS file trips.txt. A default value will be added.\n",
      "The column start_time is not available in the GTFS file trips.txt. A default value will be added.\n",
      "The column capacity is not available in the GTFS file trips.txt. A default value will be added.\n",
      "356 trips are selected.\n"
     ]
    }
   ],
   "source": [
    "# select the service IDs corresponding to a weekday\n",
    "# change this later to specify the date and automatically select the service IDs\n",
    "selected_service_ids = ['c_24568_b_55347_d_31', 'c_24568_b_55347_d_23', 'c_24565_b_55346_d_31', 'c_21961_b_30936_d_31', 'c_21742_b_30476_d_31']\n",
    "\n",
    "trip_file_columns = ['trip_id', 'route_id', 'type', 'start_time', 'capacity', 'shape_id', 'direction_id']\n",
    "# Read the trips file\n",
    "# Select trips with the selected service IDs\n",
    "# Replace spaces with underscores\n",
    "# Save the selected trips as a tab-delimited .dat file\n",
    "try:\n",
    "    gtfs_trips = pd.read_csv(gtfs_folder+'/trips.txt')\n",
    "    selected_trips = gtfs_trips[gtfs_trips['service_id'].isin(selected_service_ids)]\n",
    "    #selected_trips.fillna(\"NA\", inplace=True)\n",
    "    selected_trips = selected_trips.replace(' ', '', regex=True)\n",
    "    for cl in trip_file_columns:\n",
    "        if cl not in selected_trips.head():\n",
    "            print ('The column', cl,'is not available in the GTFS file trips.txt. A default value will be added.')\n",
    "            selected_trips[cl] = -1\n",
    "    selected_trips[trip_file_columns].to_csv(model_folder+'/ft_input_trips.dat', sep='\\t', index=False)\n",
    "    print (len(selected_trips), \"trips are selected.\")\n",
    "except:\n",
    "    print ('GTFS file trips.txt does not exist or is corrupted. The program will terminate.')\n",
    "    quit(keep_kernel=True)    \n"
   ]
  },
  {
   "cell_type": "markdown",
   "id": "c73167fa",
   "metadata": {},
   "source": [
    "# Routes"
   ]
  },
  {
   "cell_type": "code",
   "execution_count": 4,
   "id": "be89783c",
   "metadata": {},
   "outputs": [
    {
     "name": "stdout",
     "output_type": "stream",
     "text": [
      "14 routes are selected.\n"
     ]
    }
   ],
   "source": [
    "route_file_columns = ['route_id', 'route_short_name', 'route_long_name', 'route_type']\n",
    "# Read the routes file\n",
    "# Select routes if in the selected route set\n",
    "# Replace spaces with underscores\n",
    "# Save the selected routes as a tab-delimited .dat file\n",
    "route_set = set(selected_trips['route_id'].tolist())\n",
    "try:\n",
    "    gtfs_routes = pd.read_csv(gtfs_folder+'/routes.txt')\n",
    "    selected_routes = gtfs_routes[gtfs_routes['route_id'].isin(route_set)]\n",
    "    #selected_routes.fillna(\"NA\", inplace=True)\n",
    "    selected_routes = selected_routes.replace(' ', '', regex=True)\n",
    "    for cl in route_file_columns:\n",
    "        if cl not in selected_routes.head():\n",
    "            print ('The column', cl,'is not available in the GTFS file routes.txt. A default value will be added.')\n",
    "            selected_routes[cl] = -1\n",
    "    selected_routes[route_file_columns].to_csv(model_folder+'/ft_input_routes.dat', sep='\\t', index=False)\n",
    "    print (len(selected_routes), \"routes are selected.\")\n",
    "except:\n",
    "    print ('GTFS file routes.txt does not exist or is corrupted. The program will terminate.')\n",
    "    quit(keep_kernel=True)  "
   ]
  },
  {
   "cell_type": "markdown",
   "id": "9d0420f4",
   "metadata": {},
   "source": [
    "# stop-times"
   ]
  },
  {
   "cell_type": "code",
   "execution_count": 5,
   "id": "1a716f8d",
   "metadata": {},
   "outputs": [
    {
     "name": "stdout",
     "output_type": "stream",
     "text": [
      "11136 stop-times are selected.\n"
     ]
    }
   ],
   "source": [
    "stop_time_file_columns = ['trip_id', 'arrival_time', 'departure_time', 'stop_id', 'stop_sequence']\n",
    "# Read the stop_times file\n",
    "# Select stop_times with the selected trip IDs\n",
    "# Replace spaces with underscores\n",
    "# Save the selected stop-times as a tab-delimited .dat file\n",
    "trip_set = set(selected_trips['trip_id'].tolist())\n",
    "try:\n",
    "    gtfs_stop_times = pd.read_csv(gtfs_folder+'/stop_times.txt')\n",
    "    selected_stop_times = gtfs_stop_times[gtfs_stop_times['trip_id'].isin(trip_set)]\n",
    "    #selected_stop_times.fillna(\"NA\", inplace=True)\n",
    "    selected_stop_times = selected_stop_times.replace(' ', '', regex=True)\n",
    "    selected_stop_times = selected_stop_times.replace(':', '', regex=True)\n",
    "    for cl in stop_time_file_columns:\n",
    "        if cl not in selected_stop_times.head():\n",
    "            print ('The column', cl,'is not available in the GTFS file stop_times.txt. A default value will be added.')\n",
    "            selected_stop_times[cl] = -1\n",
    "    selected_stop_times[stop_time_file_columns].to_csv(model_folder+'/ft_input_stopTimes.dat', sep='\\t', index=False)\n",
    "    print (len(selected_stop_times), \"stop-times are selected.\")\n",
    "except:\n",
    "    print ('GTFS file stop_times.txt does not exist or is corrupted. The program will terminate.')\n",
    "    quit(keep_kernel=True)     "
   ]
  },
  {
   "cell_type": "markdown",
   "id": "799e8fb4",
   "metadata": {},
   "source": [
    "# Stops"
   ]
  },
  {
   "cell_type": "code",
   "execution_count": 6,
   "id": "b8ce7479",
   "metadata": {},
   "outputs": [
    {
     "name": "stdout",
     "output_type": "stream",
     "text": [
      "The column capacity is not available in the GTFS file stops.txt. A default value will be added.\n",
      "358 stops are selected.\n"
     ]
    }
   ],
   "source": [
    "stop_file_columns = ['stop_id',  'stop_name', 'stop_desc', 'stop_lat', 'stop_lon', 'capacity']\n",
    "# Read the stops file\n",
    "# Select stops with the selected trip IDs\n",
    "# Replace spaces with underscores\n",
    "# Save the selected stops as a tab-delimited .dat file\n",
    "stop_set = set(selected_stop_times['stop_id'].tolist())\n",
    "try:\n",
    "    gtfs_stops = pd.read_csv(gtfs_folder+'/stops.txt')\n",
    "    selected_stops = gtfs_stops[gtfs_stops['stop_id'].isin(stop_set)]\n",
    "    #selected_stops.fillna(\"NA\", inplace=True)\n",
    "    selected_stops = selected_stops.replace(' ', '_', regex=True)\n",
    "    for cl in stop_file_columns:\n",
    "        if cl not in selected_stops.head():\n",
    "            print ('The column', cl,'is not available in the GTFS file stops.txt. A default value will be added.')\n",
    "            selected_stops[cl] = -1\n",
    "    selected_stops[stop_file_columns].to_csv(model_folder+'/ft_input_stops.dat', sep='\\t', index=False)\n",
    "    print (len(selected_stops), \"stops are selected.\")\n",
    "except:\n",
    "    print ('GTFS file stops.txt does not exist or is corrupted. The program will terminate.')\n",
    "    quit(keep_kernel=True)     "
   ]
  },
  {
   "cell_type": "markdown",
   "id": "8ed2fa27",
   "metadata": {},
   "source": [
    "# Transfers"
   ]
  },
  {
   "cell_type": "code",
   "execution_count": 3,
   "id": "bbd69a33",
   "metadata": {},
   "outputs": [
    {
     "name": "stdout",
     "output_type": "stream",
     "text": [
      "13701 stops\n"
     ]
    }
   ],
   "source": [
    "model_folder = \"examples/TwinCities\"\n",
    "stop = []\n",
    "stopLat = []\n",
    "stopLon = []\n",
    "try:\n",
    "    inFile = open(model_folder+'/ft_input_stops.dat', 'r')\n",
    "    strIn = inFile.readline()\n",
    "    i=-1\n",
    "    while(1):\n",
    "        strIn = inFile.readline()\n",
    "        if(strIn) == \"\":\n",
    "            break\n",
    "        else:\n",
    "            i = i + 1\n",
    "            strSplt = strIn.split(\"\\t\")\n",
    "            stop.append(strSplt[0])\n",
    "            stopLat.append(float(strSplt[3]))\n",
    "            stopLon.append(float(strSplt[4]))\n",
    "    inFile.close()\n",
    "    print (len(stop), \"stops\")\n",
    "except:\n",
    "    print ('Input file ft_input_stops.dat does not exist or is corrupted. The program will terminate.')\n",
    "    quit(keep_kernel=True)     "
   ]
  },
  {
   "cell_type": "markdown",
   "id": "df6f6b21",
   "metadata": {},
   "source": [
    "generating transfers"
   ]
  },
  {
   "cell_type": "code",
   "execution_count": 5,
   "id": "61aa9fd4",
   "metadata": {},
   "outputs": [
    {
     "name": "stdout",
     "output_type": "stream",
     "text": [
      "0 0\n",
      "1000 6889\n",
      "2000 13566\n",
      "3000 19838\n",
      "4000 25497\n",
      "5000 33995\n",
      "6000 39133\n",
      "7000 44133\n",
      "8000 48797\n",
      "9000 52947\n",
      "10000 56835\n",
      "11000 59689\n",
      "12000 62838\n",
      "13000 65976\n",
      "68165 transfers\n"
     ]
    }
   ],
   "source": [
    "import math\n",
    "## insert transfer distance threshold in miles\n",
    "transfer_threshold = 0.25 #miles\n",
    "\n",
    "outFile = open(model_folder+'/ft_input_transfers.dat', \"w\")\n",
    "outFile.write(\"from_stop\\tto_stop\\tdistance\\ttime\\n\")\n",
    "degreesToRradians = math.pi/180.0\n",
    "k=0\n",
    "for i in range(len(stop)):\n",
    "    if i%1000 == 0: print (i, k)\n",
    "    tmpLat1 = stopLat[i] * degreesToRradians\n",
    "    tmpLon1 = stopLon[i] * degreesToRradians\n",
    "    for j in range(i+1, len(stop)):\n",
    "        if i == j:\n",
    "            continue\n",
    "        tmpLat2 = stopLat[j] * degreesToRradians\n",
    "        tmpLon2 = stopLon[j] * degreesToRradians\n",
    "        tmpDist = (math.sin(math.pi/2.0 - tmpLat1) * math.sin(math.pi/2.0 - tmpLat2) * math.cos(tmpLon1 - tmpLon2) + math.cos(math.pi/2.0 - tmpLat1) * math.cos(math.pi/2.0 - tmpLat2))\n",
    "        tmpDist = max(-1.0,min(tmpDist,1.0))\n",
    "        try:\n",
    "            tmpDist = 3960 * math.acos(tmpDist)     #will crash with domain = 1.0\n",
    "        except:\n",
    "            #print (tmpDist)\n",
    "            tmpDist = 0.0\n",
    "        tmpDist = max(tmpDist,0.001)\n",
    "        if tmpDist <= transfer_threshold:\n",
    "            k = k + 1\n",
    "            tmpStop1 = stop[i]\n",
    "            tmpStop2 = stop[j]\n",
    "            tmpTime = tmpDist / 3.0 * 60\n",
    "            strOut = str(tmpStop1) + \"\\t\" + str(tmpStop2) + \"\\t\" + str(round(tmpDist,3)) + \"\\t\" + str(round(tmpTime,2)) + \"\\t\" + \"1\" + \"\\n\"\n",
    "            outFile.write(strOut)\n",
    "            strOut = str(tmpStop2) + \"\\t\" + str(tmpStop1) + \"\\t\" + str(round(tmpDist,3)) + \"\\t\" + str(round(tmpTime,2)) + \"\\t\" + \"1\" + \"\\n\"\n",
    "            outFile.write(strOut)\n",
    "outFile.close()\n",
    "print (k, \"transfers\")\n"
   ]
  },
  {
   "cell_type": "markdown",
   "id": "024c808c",
   "metadata": {},
   "source": [
    "# Access Links"
   ]
  },
  {
   "cell_type": "code",
   "execution_count": 6,
   "id": "ecbd997a",
   "metadata": {},
   "outputs": [
    {
     "name": "stdout",
     "output_type": "stream",
     "text": [
      "1599 zones!\n"
     ]
    }
   ],
   "source": [
    "node = []\n",
    "nodeLat = []\n",
    "nodeLon = []\n",
    "try:\n",
    "    inFile = open(model_folder+'/ft_input_zones.dat', 'r')\n",
    "    strIn = inFile.readline()\n",
    "    i=-1\n",
    "    while(1):\n",
    "        strIn = inFile.readline()\n",
    "        if(strIn) == \"\":\n",
    "            break\n",
    "        else:\n",
    "            i = i + 1\n",
    "            strSplt = strIn.split(\"\\t\")\n",
    "            node.append(strSplt[0])\n",
    "            nodeLat.append(float(strSplt[1]))\n",
    "            nodeLon.append(float(strSplt[2]))\n",
    "    inFile.close()\n",
    "    print (len(node), \"zones!\")\n",
    "except:\n",
    "    print ('Input file ft_input_zones.dat does not exist or is corrupted. The program will terminate.')\n",
    "    quit(keep_kernel=True)     "
   ]
  },
  {
   "cell_type": "markdown",
   "id": "6fc81053",
   "metadata": {},
   "source": [
    "generating access links"
   ]
  },
  {
   "cell_type": "code",
   "execution_count": 7,
   "id": "a9fcc557",
   "metadata": {},
   "outputs": [
    {
     "name": "stdout",
     "output_type": "stream",
     "text": [
      "0 0\n",
      "1000 45698\n",
      "72867 walking access links!\n"
     ]
    }
   ],
   "source": [
    "import math\n",
    "## insert access distance threshold in miles\n",
    "access_threshold = 0.5 #miles\n",
    "\n",
    "outFile = open(model_folder+'/ft_input_accessLinks.dat', \"w\")\n",
    "outFile.write(\"TAZ\\tstop\\tdist\\ttime\\n\")\n",
    "degreesToRradians = math.pi/180.0\n",
    "k=0\n",
    "for i in range(len(node)):  ####walking access links\n",
    "    if i%1000 == 0: print (i, k)\n",
    "    tmpLat1 = nodeLat[i] * degreesToRradians\n",
    "    tmpLon1 = nodeLon[i] * degreesToRradians\n",
    "    for j in range(len(stop)):\n",
    "        tmpLat2 = stopLat[j] * degreesToRradians\n",
    "        tmpLon2 = stopLon[j] * degreesToRradians\n",
    "        tmpDist = (math.sin(math.pi/2.0 - tmpLat1) * math.sin(math.pi/2.0 - tmpLat2) * math.cos(tmpLon1 - tmpLon2) + math.cos(math.pi/2.0 - tmpLat1) * math.cos(math.pi/2.0 - tmpLat2))\n",
    "        tmpDist = max(-1.0,min(tmpDist,1.0))\n",
    "        try:\n",
    "            tmpDist = 3960 * math.acos(tmpDist)     #will crash with domain = 1.0\n",
    "        except:\n",
    "            #print (tmpDist)\n",
    "            tmpDist = 0.0\n",
    "        tmpDist = max(tmpDist,0.001)\n",
    "        if tmpDist <= access_threshold:\n",
    "            k = k + 1\n",
    "            tmpNode = node[i]\n",
    "            tmpStop = stop[j]\n",
    "            tmpTime = tmpDist / 3.0 * 60\n",
    "            strOut = str(tmpNode) + \"\\t\" + str(tmpStop) + \"\\t\" + str(round(tmpDist,3)) + \"\\t\" + str(round(tmpTime,2)) + \"\\t\" + \"1\" + \"\\n\"\n",
    "            outFile.write(strOut)\n",
    "print (k, \"walking access links!\")\n"
   ]
  },
  {
   "cell_type": "code",
   "execution_count": null,
   "id": "0aeeae61",
   "metadata": {},
   "outputs": [],
   "source": []
  },
  {
   "cell_type": "code",
   "execution_count": null,
   "id": "33574963",
   "metadata": {},
   "outputs": [],
   "source": []
  }
 ],
 "metadata": {
  "kernelspec": {
   "display_name": "Python 3 (ipykernel)",
   "language": "python",
   "name": "python3"
  },
  "language_info": {
   "codemirror_mode": {
    "name": "ipython",
    "version": 3
   },
   "file_extension": ".py",
   "mimetype": "text/x-python",
   "name": "python",
   "nbconvert_exporter": "python",
   "pygments_lexer": "ipython3",
   "version": "3.8.11"
  }
 },
 "nbformat": 4,
 "nbformat_minor": 5
}
